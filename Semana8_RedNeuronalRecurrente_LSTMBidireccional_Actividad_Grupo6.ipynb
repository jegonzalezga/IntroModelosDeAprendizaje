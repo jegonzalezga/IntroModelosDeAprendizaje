{
  "nbformat": 4,
  "nbformat_minor": 0,
  "metadata": {
    "accelerator": "GPU",
    "colab": {
      "name": "Semana8_RedNeuronalRecurrente_LSTMBidireccional_Actividad.ipynb",
      "provenance": [],
      "include_colab_link": true
    },
    "coursera": {
      "course_slug": "neural-networks-deep-learning",
      "graded_item_id": "wRuwL",
      "launcher_item_id": "NI888"
    },
    "kernelspec": {
      "display_name": "Python 3",
      "language": "python",
      "name": "python3"
    },
    "language_info": {
      "codemirror_mode": {
        "name": "ipython",
        "version": 3
      },
      "file_extension": ".py",
      "mimetype": "text/x-python",
      "name": "python",
      "nbconvert_exporter": "python",
      "pygments_lexer": "ipython3",
      "version": "3.7.4"
    }
  },
  "cells": [
    {
      "cell_type": "markdown",
      "metadata": {
        "id": "view-in-github",
        "colab_type": "text"
      },
      "source": [
        "<a href=\"https://colab.research.google.com/github/jegonzalezga/IntroModelosDeAprendizaje/blob/master/Semana8_RedNeuronalRecurrente_LSTMBidireccional_Actividad_Grupo6.ipynb\" target=\"_parent\"><img src=\"https://colab.research.google.com/assets/colab-badge.svg\" alt=\"Open In Colab\"/></a>"
      ]
    },
    {
      "cell_type": "markdown",
      "metadata": {
        "id": "G28pO7L4xxRR"
      },
      "source": [
        "## MIIA-4203 MODELOS AVANZADOS PARA ANÁLISIS DE DATOS II\n",
        "\n",
        "\n",
        "# Red neuronal recurrente: LSTM bidireccional\n",
        "\n",
        "## Actividad 8\n",
        "\n",
        "### Profesor: Camilo Franco (c.franco31@uniandes.edu.co)\n",
        "\n",
        "## Actividad en grupos\n",
        "### Nombres:\n",
        "\n",
        "Daniela Carolina Sanabria\n",
        "\n",
        "Juan Camilo Marín\n",
        "\n",
        "Jorge Enrique González\n",
        "\n",
        "**Instrucciones:** Por favor escriba los nombres de los integrantes de su grupo. Esta actividad debe ser entregada a más tardar dentro de 8 días, con la respuesta para los ejercicios y preguntas en cada numeral.\n",
        "\n",
        "En este cuaderno vamos a implementar una red recurrente bi-direccional para la prediccion del sentimiento asociado con un comentario linguistico. Los comentarios con los que vamos a trabajar corresponden con opiniones sobre peliculas (https://ai.stanford.edu/~amaas/data/sentiment/)\n",
        "\n",
        "Finalmente tenemos un ejercicio donde podremos explorar distintos modelos de redes recurrentes (https://en.wikipedia.org/wiki/Recurrent_neural_network)\n",
        "\n",
        "Primero importemos las bibliotecas y paquetes que vamos a utilizar:"
      ]
    },
    {
      "cell_type": "code",
      "metadata": {
        "id": "OGFSv9kIxxRa"
      },
      "source": [
        "import numpy as np\n",
        "import keras\n",
        "from keras import layers\n",
        "from keras.models import load_model, Sequential\n",
        "\n",
        "import h5py\n",
        "import matplotlib.pyplot as plt\n",
        "from prettytable import PrettyTable\n",
        "\n",
        "from sklearn.model_selection import train_test_split\n",
        "from sklearn.metrics import confusion_matrix \n"
      ],
      "execution_count": 1,
      "outputs": []
    },
    {
      "cell_type": "markdown",
      "metadata": {
        "id": "YrCtnzOkxxSP"
      },
      "source": [
        "También definimos algunos parámetros para nuestra implementación, uno donde definimos el número máximo de términos a considerar (de todo nuestro vocabulario) y otro donde definimos la longitud máxima para un comentario:"
      ]
    },
    {
      "cell_type": "code",
      "metadata": {
        "id": "cqAileC1xxSX"
      },
      "source": [
        "max_features = 20000  # Considera las 20000 palabras más populares\n",
        "maxlen = 200  # Considera las primeras 200 palabras de cada comentario"
      ],
      "execution_count": 2,
      "outputs": []
    },
    {
      "cell_type": "markdown",
      "metadata": {
        "id": "5XI0B2JAxxTW"
      },
      "source": [
        "Importemos los datos:"
      ]
    },
    {
      "cell_type": "code",
      "metadata": {
        "id": "FYaVa5aMxxTX",
        "outputId": "79224c2c-ffce-4f5d-b569-3aa1e3ce2260",
        "colab": {
          "base_uri": "https://localhost:8080/",
          "height": 85
        }
      },
      "source": [
        "(x_train, y_train), (x_val, y_val) = keras.datasets.imdb.load_data(\n",
        "    num_words=max_features)\n",
        "\n",
        "print(len(x_train), \"secuencias de entrenamiento\")\n",
        "print(len(x_val), \"secuencias de validación\")\n",
        "\n",
        "x_train = keras.preprocessing.sequence.pad_sequences(x_train, maxlen=maxlen)\n",
        "x_val = keras.preprocessing.sequence.pad_sequences(x_val, maxlen=maxlen)"
      ],
      "execution_count": 3,
      "outputs": [
        {
          "output_type": "stream",
          "text": [
            "Downloading data from https://storage.googleapis.com/tensorflow/tf-keras-datasets/imdb.npz\n",
            "17465344/17464789 [==============================] - 0s 0us/step\n",
            "25000 secuencias de entrenamiento\n",
            "25000 secuencias de validación\n"
          ],
          "name": "stdout"
        }
      ]
    },
    {
      "cell_type": "markdown",
      "metadata": {
        "id": "AEkmQFtAxxTm"
      },
      "source": [
        "**Salida esperada:**\n",
        "\n",
        "25000 secuencias de entrenamiento\n",
        "\n",
        "25000 secuencias de validación"
      ]
    },
    {
      "cell_type": "markdown",
      "metadata": {
        "id": "AhChkNAaxxTn"
      },
      "source": [
        "Veamos en qué consiste la priemra observación de entrenamiento:"
      ]
    },
    {
      "cell_type": "code",
      "metadata": {
        "id": "eb0YJ9h6xxTo",
        "outputId": "54f0e495-23d3-4580-eed5-c07f14ad0583",
        "colab": {
          "base_uri": "https://localhost:8080/",
          "height": 408
        }
      },
      "source": [
        "x_train[0]"
      ],
      "execution_count": 4,
      "outputs": [
        {
          "output_type": "execute_result",
          "data": {
            "text/plain": [
              "array([    5,    25,   100,    43,   838,   112,    50,   670,     2,\n",
              "           9,    35,   480,   284,     5,   150,     4,   172,   112,\n",
              "         167,     2,   336,   385,    39,     4,   172,  4536,  1111,\n",
              "          17,   546,    38,    13,   447,     4,   192,    50,    16,\n",
              "           6,   147,  2025,    19,    14,    22,     4,  1920,  4613,\n",
              "         469,     4,    22,    71,    87,    12,    16,    43,   530,\n",
              "          38,    76,    15,    13,  1247,     4,    22,    17,   515,\n",
              "          17,    12,    16,   626,    18, 19193,     5,    62,   386,\n",
              "          12,     8,   316,     8,   106,     5,     4,  2223,  5244,\n",
              "          16,   480,    66,  3785,    33,     4,   130,    12,    16,\n",
              "          38,   619,     5,    25,   124,    51,    36,   135,    48,\n",
              "          25,  1415,    33,     6,    22,    12,   215,    28,    77,\n",
              "          52,     5,    14,   407,    16,    82, 10311,     8,     4,\n",
              "         107,   117,  5952,    15,   256,     4,     2,     7,  3766,\n",
              "           5,   723,    36,    71,    43,   530,   476,    26,   400,\n",
              "         317,    46,     7,     4, 12118,  1029,    13,   104,    88,\n",
              "           4,   381,    15,   297,    98,    32,  2071,    56,    26,\n",
              "         141,     6,   194,  7486,    18,     4,   226,    22,    21,\n",
              "         134,   476,    26,   480,     5,   144,    30,  5535,    18,\n",
              "          51,    36,    28,   224,    92,    25,   104,     4,   226,\n",
              "          65,    16,    38,  1334,    88,    12,    16,   283,     5,\n",
              "          16,  4472,   113,   103,    32,    15,    16,  5345,    19,\n",
              "         178,    32], dtype=int32)"
            ]
          },
          "metadata": {
            "tags": []
          },
          "execution_count": 4
        }
      ]
    },
    {
      "cell_type": "markdown",
      "metadata": {
        "id": "o4hXCJ01xxTu"
      },
      "source": [
        "Podemos reconstruir cada comentario de acuerdo con el índice de cada término:"
      ]
    },
    {
      "cell_type": "code",
      "metadata": {
        "id": "0mf0tactxxTu",
        "outputId": "46f376d3-3a1d-4e92-a489-62c44d26d032",
        "colab": {
          "base_uri": "https://localhost:8080/",
          "height": 51
        }
      },
      "source": [
        "L = keras.datasets.imdb.get_word_index(path=\"imdb_word_index.json\")\n",
        "\n",
        "L = {k:(v+3) for k,v in L.items()}\n",
        "L[\"<PAD>\"] = 0\n",
        "L[\"<START>\"] = 1\n",
        "L[\"<UNK>\"] = 2\n",
        "L[\"<UNUSED>\"] = 3\n",
        "\n",
        "L_palabra = {value:key for key,value in L.items()}"
      ],
      "execution_count": 5,
      "outputs": [
        {
          "output_type": "stream",
          "text": [
            "Downloading data from https://storage.googleapis.com/tensorflow/tf-keras-datasets/imdb_word_index.json\n",
            "1646592/1641221 [==============================] - 0s 0us/step\n"
          ],
          "name": "stdout"
        }
      ]
    },
    {
      "cell_type": "markdown",
      "metadata": {
        "id": "UmFldzY3xxT-"
      },
      "source": [
        "Veamos el primer comentario de entrenamiento que es positivo:"
      ]
    },
    {
      "cell_type": "code",
      "metadata": {
        "id": "euspqFpexxT_",
        "outputId": "d6806187-588e-4ed0-e4e0-5f22a65c3f42",
        "colab": {
          "base_uri": "https://localhost:8080/",
          "height": 71
        }
      },
      "source": [
        "print(\"El comentario: \", ' '.join(L_palabra[id] for id in x_train[0] ))\n",
        "print(\"Tiene un sentimiento asociado: \", y_train[0])"
      ],
      "execution_count": 6,
      "outputs": [
        {
          "output_type": "stream",
          "text": [
            "El comentario:  and you could just imagine being there robert <UNK> is an amazing actor and now the same being director <UNK> father came from the same scottish island as myself so i loved the fact there was a real connection with this film the witty remarks throughout the film were great it was just brilliant so much that i bought the film as soon as it was released for retail and would recommend it to everyone to watch and the fly fishing was amazing really cried at the end it was so sad and you know what they say if you cry at a film it must have been good and this definitely was also congratulations to the two little boy's that played the <UNK> of norman and paul they were just brilliant children are often left out of the praising list i think because the stars that play them all grown up are such a big profile for the whole film but these children are amazing and should be praised for what they have done don't you think the whole story was so lovely because it was true and was someone's life after all that was shared with us all\n",
            "Tiene un sentimiento asociado:  1\n"
          ],
          "name": "stdout"
        }
      ]
    },
    {
      "cell_type": "markdown",
      "metadata": {
        "id": "4CjBsCqnxxUF"
      },
      "source": [
        "O un comentario negativo:"
      ]
    },
    {
      "cell_type": "code",
      "metadata": {
        "id": "ru1tba6wxxUG",
        "outputId": "8451225b-7867-4784-d571-e8e1929f657d",
        "colab": {
          "base_uri": "https://localhost:8080/",
          "height": 71
        }
      },
      "source": [
        "print(\"El comentario: \", ' '.join(L_palabra[id] for id in x_train[1] ))\n",
        "print(\"Tiene un sentimiento asociado: \", y_train[1])"
      ],
      "execution_count": 7,
      "outputs": [
        {
          "output_type": "stream",
          "text": [
            "El comentario:  <PAD> <PAD> <PAD> <PAD> <PAD> <PAD> <PAD> <PAD> <PAD> <PAD> <PAD> <START> big hair big boobs bad music and a giant safety pin these are the words to best describe this terrible movie i love cheesy horror movies and i've seen hundreds but this had got to be on of the worst ever made the plot is paper thin and ridiculous the acting is an abomination the script is completely laughable the best is the end showdown with the cop and how he worked out who the killer is it's just so damn terribly written the clothes are sickening and funny in equal measures the hair is big lots of boobs bounce men wear those cut tee shirts that show off their <UNK> sickening that men actually wore them and the music is just <UNK> trash that plays over and over again in almost every scene there is trashy music boobs and <UNK> taking away bodies and the gym still doesn't close for <UNK> all joking aside this is a truly bad film whose only charm is to look back on the disaster that was the 80's and have a good old laugh at how bad everything was back then\n",
            "Tiene un sentimiento asociado:  0\n"
          ],
          "name": "stdout"
        }
      ]
    },
    {
      "cell_type": "markdown",
      "metadata": {
        "id": "Xd9CPN-8xxUT"
      },
      "source": [
        "## 1. Red recurrente bi-direccional"
      ]
    },
    {
      "cell_type": "markdown",
      "metadata": {
        "id": "VvDiMrZCxxUU"
      },
      "source": [
        "A continuación definimos la arquitectura de la red:"
      ]
    },
    {
      "cell_type": "code",
      "metadata": {
        "id": "fKhUIOMzxxUV",
        "outputId": "7062e26b-4547-4259-aabd-17e8c05a657d",
        "colab": {
          "base_uri": "https://localhost:8080/",
          "height": 323
        }
      },
      "source": [
        "# Input con secuencias de enteros con longitud variable\n",
        "inputs = keras.Input(shape=(None,), dtype=\"int32\")\n",
        "\n",
        "# Conseguimos la representación vectorial (embedding) de cada entero en un vector 128-dimensional\n",
        "x = layers.Embedding(max_features, 128)(inputs)\n",
        "\n",
        "# Añadimos 2 unidades LSTM bidireccionales\n",
        "x = layers.Bidirectional(layers.LSTM(64, return_sequences=True))(x)\n",
        "x = layers.Bidirectional(layers.LSTM(64))(x)\n",
        "\n",
        "# Añadimos un clasificador binario en la salida\n",
        "outputs = layers.Dense(1, activation=\"sigmoid\")(x)\n",
        "\n",
        "# Gaurdamos la arquitectura del modelo\n",
        "model1 = keras.Model(inputs, outputs)\n",
        "model1.summary()"
      ],
      "execution_count": 8,
      "outputs": [
        {
          "output_type": "stream",
          "text": [
            "Model: \"functional_1\"\n",
            "_________________________________________________________________\n",
            "Layer (type)                 Output Shape              Param #   \n",
            "=================================================================\n",
            "input_1 (InputLayer)         [(None, None)]            0         \n",
            "_________________________________________________________________\n",
            "embedding (Embedding)        (None, None, 128)         2560000   \n",
            "_________________________________________________________________\n",
            "bidirectional (Bidirectional (None, None, 128)         98816     \n",
            "_________________________________________________________________\n",
            "bidirectional_1 (Bidirection (None, 128)               98816     \n",
            "_________________________________________________________________\n",
            "dense (Dense)                (None, 1)                 129       \n",
            "=================================================================\n",
            "Total params: 2,757,761\n",
            "Trainable params: 2,757,761\n",
            "Non-trainable params: 0\n",
            "_________________________________________________________________\n"
          ],
          "name": "stdout"
        }
      ]
    },
    {
      "cell_type": "code",
      "metadata": {
        "id": "ivjGJgZUxxUc",
        "outputId": "af587178-ce2e-4b32-f95d-049708bb4d8d",
        "colab": {
          "base_uri": "https://localhost:8080/",
          "height": 493
        }
      },
      "source": [
        "# Inicializamos la tabla donde guardamos los resultados\n",
        "x = PrettyTable([\"Exac_E\", \"Exac_V\", \"Exac_P\"])\n",
        "\n",
        "# Definimos el número máximo de iteraciones (épocas de la red)\n",
        "epocas=3\n",
        "\n",
        "# Definimos los parametros del Adam\n",
        "adam = keras.optimizers.Adam(lr=0.001, beta_1=0.9, beta_2=0.999)\n",
        "\n",
        "# Inicializamos el error \n",
        "err_p = 999\n",
        "\n",
        "for i in range(0,3,1):\n",
        "    r = i^3\n",
        "    CE_x, CV_x, CE_y, CV_y = train_test_split(x_train, y_train, test_size = 0.5, random_state = r)\n",
        "          \n",
        "    # Definimos el método de optimización con respecto a su funcion de perdida (además guardamos la exactitud para cada iteracion)\n",
        "    model = keras.Model(inputs, outputs)\n",
        "    model.compile(loss='binary_crossentropy', optimizer=adam, metrics=['accuracy'])\n",
        "    \n",
        "    # Ajustamos el modelo\n",
        "    history=model.fit(x=CE_x, y=CE_y, epochs=epocas, validation_data=(CV_x, CV_y), verbose=1, shuffle=False)\n",
        "      \n",
        "    # Calculamos las metricas\n",
        "    train_metrics = model.evaluate(x=CE_x, y=CE_y, verbose=0)\n",
        "    valid_metrics = model.evaluate(x=CV_x, y=CV_y, verbose=0)\n",
        "    test_metrics = model.evaluate(x=x_val, y=y_val, verbose=0)\n",
        "    \n",
        "    # Guardamos las métricas de desempeño\n",
        "    accu_e = train_metrics[1]\n",
        "    loss_e = train_metrics[0]\n",
        "    accu_v = valid_metrics[1]\n",
        "    loss_v = valid_metrics[0]\n",
        "    accu_p = test_metrics[1]\n",
        "    loss_p = test_metrics[0]\n",
        "    \n",
        "    if (loss_p < err_p):\n",
        "        pathr =('BRNN_part='+str(r)+'.h5')\n",
        "        model.save(pathr) \n",
        "        err_p = loss_p\n",
        "    \n",
        "    # Imprimimos el desempeño para cada repetición\n",
        "    print('Desempeño (exactitud): accu_v1='+str(accu_v) +' , accu_v2='+str(accu_p))\n",
        "    \n",
        "    x.add_row([np.round(accu_e,4), np.round(accu_v,4), np.round(accu_p,4)])\n",
        "\n",
        "print(x)\n"
      ],
      "execution_count": 9,
      "outputs": [
        {
          "output_type": "stream",
          "text": [
            "Epoch 1/3\n",
            "391/391 [==============================] - 29s 75ms/step - loss: 0.4392 - accuracy: 0.7949 - val_loss: 0.4765 - val_accuracy: 0.7718\n",
            "Epoch 2/3\n",
            "391/391 [==============================] - 28s 71ms/step - loss: 0.2145 - accuracy: 0.9215 - val_loss: 0.3532 - val_accuracy: 0.8566\n",
            "Epoch 3/3\n",
            "391/391 [==============================] - 27s 70ms/step - loss: 0.1193 - accuracy: 0.9603 - val_loss: 0.4570 - val_accuracy: 0.8569\n",
            "Desempeño (exactitud): accu_v1=0.8568800091743469 , accu_v2=0.8385999798774719\n",
            "Epoch 1/3\n",
            "391/391 [==============================] - 29s 74ms/step - loss: 0.2421 - accuracy: 0.9098 - val_loss: 0.2099 - val_accuracy: 0.9236\n",
            "Epoch 2/3\n",
            "391/391 [==============================] - 28s 71ms/step - loss: 0.1151 - accuracy: 0.9623 - val_loss: 0.2615 - val_accuracy: 0.9119\n",
            "Epoch 3/3\n",
            "391/391 [==============================] - 28s 70ms/step - loss: 0.0765 - accuracy: 0.9754 - val_loss: 0.3477 - val_accuracy: 0.8982\n",
            "Desempeño (exactitud): accu_v1=0.8981599807739258 , accu_v2=0.8398000001907349\n",
            "Epoch 1/3\n",
            "391/391 [==============================] - 29s 73ms/step - loss: 0.1918 - accuracy: 0.9290 - val_loss: 0.1956 - val_accuracy: 0.9281\n",
            "Epoch 2/3\n",
            "391/391 [==============================] - 27s 69ms/step - loss: 0.0884 - accuracy: 0.9710 - val_loss: 0.2141 - val_accuracy: 0.9240\n",
            "Epoch 3/3\n",
            "391/391 [==============================] - 27s 69ms/step - loss: 0.0433 - accuracy: 0.9876 - val_loss: 0.2341 - val_accuracy: 0.9302\n",
            "Desempeño (exactitud): accu_v1=0.9301599860191345 , accu_v2=0.8363999724388123\n",
            "+--------+--------+--------+\n",
            "| Exac_E | Exac_V | Exac_P |\n",
            "+--------+--------+--------+\n",
            "| 0.9796 | 0.8569 | 0.8386 |\n",
            "| 0.991  | 0.8982 | 0.8398 |\n",
            "| 0.9935 | 0.9302 | 0.8364 |\n",
            "+--------+--------+--------+\n"
          ],
          "name": "stdout"
        }
      ]
    },
    {
      "cell_type": "code",
      "metadata": {
        "id": "nOfHxcHaxxUg",
        "outputId": "6df6f473-e246-44e4-92de-5fa705d6a45d",
        "colab": {
          "base_uri": "https://localhost:8080/",
          "height": 573
        }
      },
      "source": [
        "plt.figure(1)\n",
        "plt.plot(history.history['accuracy'])  \n",
        "plt.plot(history.history['val_accuracy'])  \n",
        "plt.title('Exactitud')  \n",
        "plt.ylabel('Acc')  \n",
        "plt.xlabel('Epoca')  \n",
        "plt.legend(['Entreno', 'Validacion'], loc='lower right')\n",
        "plt.show()\n",
        "\n",
        "plt.figure(1) \n",
        "plt.plot(history.history['loss'])  \n",
        "plt.plot(history.history['val_loss'])  \n",
        "plt.title('Pérdida')  \n",
        "plt.ylabel('Pérdida')  \n",
        "plt.xlabel('Epoca')  \n",
        "plt.legend(['Entreno', 'Validación'], loc='upper right')  \n",
        "plt.show()"
      ],
      "execution_count": 10,
      "outputs": [
        {
          "output_type": "display_data",
          "data": {
            "image/png": "[encoded data removed]",
            "text/plain": [
              "<Figure size 432x288 with 1 Axes>"
            ]
          },
          "metadata": {
            "tags": [],
            "needs_background": "light"
          }
        },
        {
          "output_type": "display_data",
          "data": {
            "image/png": "[encoded data removed]",
            "text/plain": [
              "<Figure size 432x288 with 1 Axes>"
            ]
          },
          "metadata": {
            "tags": [],
            "needs_background": "light"
          }
        }
      ]
    },
    {
      "cell_type": "markdown",
      "metadata": {
        "id": "th8QzEm_xxUn"
      },
      "source": [
        "Recuperamos el mejor modelo:"
      ]
    },
    {
      "cell_type": "code",
      "metadata": {
        "id": "7PNIiM12xxUn",
        "outputId": "b1c304f2-d653-4f65-ada8-41aa28349058",
        "colab": {
          "base_uri": "https://localhost:8080/",
          "height": 323
        }
      },
      "source": [
        "# B-RNN LSTM\n",
        "model_brnn = load_model('BRNN_part=3.h5')\n",
        "\n",
        "model_brnn.summary()"
      ],
      "execution_count": 11,
      "outputs": [
        {
          "output_type": "stream",
          "text": [
            "Model: \"functional_3\"\n",
            "_________________________________________________________________\n",
            "Layer (type)                 Output Shape              Param #   \n",
            "=================================================================\n",
            "input_1 (InputLayer)         [(None, None)]            0         \n",
            "_________________________________________________________________\n",
            "embedding (Embedding)        (None, None, 128)         2560000   \n",
            "_________________________________________________________________\n",
            "bidirectional (Bidirectional (None, None, 128)         98816     \n",
            "_________________________________________________________________\n",
            "bidirectional_1 (Bidirection (None, 128)               98816     \n",
            "_________________________________________________________________\n",
            "dense (Dense)                (None, 1)                 129       \n",
            "=================================================================\n",
            "Total params: 2,757,761\n",
            "Trainable params: 2,757,761\n",
            "Non-trainable params: 0\n",
            "_________________________________________________________________\n"
          ],
          "name": "stdout"
        }
      ]
    },
    {
      "cell_type": "markdown",
      "metadata": {
        "id": "fRSDvjVvxxU7"
      },
      "source": [
        "Replicamos los resultados obtenidos anteriormente:"
      ]
    },
    {
      "cell_type": "code",
      "metadata": {
        "id": "1TgRT_i6xxU-",
        "outputId": "46622077-77c8-4d17-9151-245da9477e7a",
        "colab": {
          "base_uri": "https://localhost:8080/",
          "height": 68
        }
      },
      "source": [
        "Y_predt = model_brnn.predict(x_train)\n",
        "Y_predst = (Y_predt > 0.5)\n",
        "\n",
        "print(confusion_matrix(y_train, Y_predst))\n",
        "print(\"Exactitud: \", model_brnn.evaluate(x=x_train, y=y_train, verbose=0)[1])"
      ],
      "execution_count": 12,
      "outputs": [
        {
          "output_type": "stream",
          "text": [
            "[[11708   792]\n",
            " [ 1252 11248]]\n",
            "Exactitud:  0.9182400107383728\n"
          ],
          "name": "stdout"
        }
      ]
    },
    {
      "cell_type": "markdown",
      "metadata": {
        "id": "gmKZYf9KxxVG"
      },
      "source": [
        "Reportamos el desempeño del modelo con los datos de prueba (fuera de la muestra):"
      ]
    },
    {
      "cell_type": "code",
      "metadata": {
        "id": "9PE7AzR6xxVK",
        "outputId": "d1da38d7-6ce3-4334-adcd-897ed78c58c4",
        "colab": {
          "base_uri": "https://localhost:8080/",
          "height": 68
        }
      },
      "source": [
        "Y_predv = model_brnn.predict(x_val)\n",
        "Y_predsv = (Y_predv > 0.5)\n",
        "\n",
        "print(confusion_matrix(y_val, Y_predsv))\n",
        "print(\"Exactitud: \", model_brnn.evaluate(x=x_val, y=y_val, verbose=0)[1])"
      ],
      "execution_count": 13,
      "outputs": [
        {
          "output_type": "stream",
          "text": [
            "[[10988  1512]\n",
            " [ 2523  9977]]\n",
            "Exactitud:  0.8385999798774719\n"
          ],
          "name": "stdout"
        }
      ]
    },
    {
      "cell_type": "markdown",
      "metadata": {
        "id": "mCGdrBC7xxVQ"
      },
      "source": [
        "## Ejercicio 1.1\n",
        "\n",
        "Desarrolle un modelo de red neuronal recurrente uni-direccional para comparar los resultados obtenidos con red recurrente bi-direccional.\n",
        "\n",
        "Puede explorar una red recurrente simple, LSTM ó GRU, o cualquier otro tipo de red que desee explorar que contenga al menos una capa de tipo recurrente (ver por ejemplo: https://keras.io/api/layers/#recurrent-layers).\n",
        "\n",
        "Compare los resultados sobre los datos de prueba y analice el desempeño de su modelo."
      ]
    },
    {
      "cell_type": "code",
      "metadata": {
        "id": "9qMQgGblxxVQ",
        "outputId": "e4c4e7a5-a31a-452e-dd29-f6968ada99d4",
        "colab": {
          "base_uri": "https://localhost:8080/",
          "height": 323
        }
      },
      "source": [
        "# Input con secuencias de enteros con longitud variable\n",
        "inputs = keras.Input(shape=(None,), dtype=\"int32\")\n",
        "\n",
        "# Conseguimos la representación vectorial (embedding) de cada entero en un vector 128-dimensional\n",
        "x = layers.Embedding(max_features, 128)(inputs)\n",
        "\n",
        "# Añadimos 2 unidades LSTM\n",
        "x = (layers.LSTM(150, return_sequences=True))(x)\n",
        "x = (layers.LSTM(94))(x)\n",
        "\n",
        "# Añadimos un clasificador binario en la salida\n",
        "outputs = layers.Dense(1, activation=\"sigmoid\")(x)\n",
        "\n",
        "# Gaurdamos la arquitectura del modelo\n",
        "model2 = keras.Model(inputs, outputs)\n",
        "model2.compile(loss='binary_crossentropy', optimizer=adam, metrics=['accuracy'])\n",
        "model2.summary()"
      ],
      "execution_count": 28,
      "outputs": [
        {
          "output_type": "stream",
          "text": [
            "Model: \"functional_15\"\n",
            "_________________________________________________________________\n",
            "Layer (type)                 Output Shape              Param #   \n",
            "=================================================================\n",
            "input_5 (InputLayer)         [(None, None)]            0         \n",
            "_________________________________________________________________\n",
            "embedding_4 (Embedding)      (None, None, 128)         2560000   \n",
            "_________________________________________________________________\n",
            "lstm_4 (LSTM)                (None, None, 150)         167400    \n",
            "_________________________________________________________________\n",
            "lstm_5 (LSTM)                (None, 94)                92120     \n",
            "_________________________________________________________________\n",
            "dense_4 (Dense)              (None, 1)                 95        \n",
            "=================================================================\n",
            "Total params: 2,819,615\n",
            "Trainable params: 2,819,615\n",
            "Non-trainable params: 0\n",
            "_________________________________________________________________\n"
          ],
          "name": "stdout"
        }
      ]
    },
    {
      "cell_type": "code",
      "metadata": {
        "id": "HKOglKyE2q6S",
        "outputId": "edbd4b2c-18f7-4351-d3c5-f5146955a066",
        "colab": {
          "base_uri": "https://localhost:8080/",
          "height": 119
        }
      },
      "source": [
        "    # Ajustamos el modelo\n",
        "    model2.fit(x=CE_x, y=CE_y, epochs=epocas, validation_data=(CV_x, CV_y), verbose=1, shuffle=False)   \n",
        "    # Calculamos las metricas\n",
        "    train_metrics = model2.evaluate(x=CE_x, y=CE_y, verbose=0)\n",
        "    valid_metrics = model2.evaluate(x=CV_x, y=CV_y, verbose=0)\n",
        "    test_metrics = model2.evaluate(x=x_val, y=y_val, verbose=0)"
      ],
      "execution_count": 35,
      "outputs": [
        {
          "output_type": "stream",
          "text": [
            "Epoch 1/3\n",
            "391/391 [==============================] - 21s 54ms/step - loss: 0.0142 - accuracy: 0.9968 - val_loss: 0.7219 - val_accuracy: 0.8377\n",
            "Epoch 2/3\n",
            "391/391 [==============================] - 21s 53ms/step - loss: 0.0100 - accuracy: 0.9974 - val_loss: 0.6324 - val_accuracy: 0.8492\n",
            "Epoch 3/3\n",
            "391/391 [==============================] - 21s 53ms/step - loss: 0.0069 - accuracy: 0.9985 - val_loss: 0.7794 - val_accuracy: 0.8476\n"
          ],
          "name": "stdout"
        }
      ]
    },
    {
      "cell_type": "code",
      "metadata": {
        "id": "_KvzbPkO-MNa",
        "outputId": "c8078637-7be3-4d8d-de34-deb133bfe8ce",
        "colab": {
          "base_uri": "https://localhost:8080/",
          "height": 68
        }
      },
      "source": [
        "Y_predt = model2.predict(x_train)\n",
        "Y_predst = (Y_predt > 0.5)\n",
        "\n",
        "print(confusion_matrix(y_train, Y_predst))\n",
        "print(\"Exactitud: \", model2.evaluate(x=x_train, y=y_train, verbose=0)[1])"
      ],
      "execution_count": 36,
      "outputs": [
        {
          "output_type": "stream",
          "text": [
            "[[11546   954]\n",
            " [  960 11540]]\n",
            "Exactitud:  0.9234399795532227\n"
          ],
          "name": "stdout"
        }
      ]
    },
    {
      "cell_type": "code",
      "metadata": {
        "id": "pMkXo63a4x8U",
        "outputId": "a91321c0-94fa-4cb9-c30b-82763916f731",
        "colab": {
          "base_uri": "https://localhost:8080/",
          "height": 68
        }
      },
      "source": [
        "Y_predv = model2.predict(x_val)\n",
        "Y_predsv = (Y_predv > 0.5)\n",
        "\n",
        "print(confusion_matrix(y_val, Y_predsv))\n",
        "print(\"Exactitud: \", model2.evaluate(x=x_val, y=y_val, verbose=0)[1])"
      ],
      "execution_count": 37,
      "outputs": [
        {
          "output_type": "stream",
          "text": [
            "[[10586  1914]\n",
            " [ 2171 10329]]\n",
            "Exactitud:  0.8366000056266785\n"
          ],
          "name": "stdout"
        }
      ]
    },
    {
      "cell_type": "markdown",
      "metadata": {
        "id": "XxO82mb4TPvj"
      },
      "source": [
        "Con un modelo LSTM se obtuvo un resultado bastante comparables con el modelo bidireccional con un accuracy de 0.9234 en entrenamiento, comparado con el accuracy de entrenamiento de la red bidireccional que fue de 0.9182. Por otro lado en validación la red bidireccional tuvo un mejor desempeño ya que la red sencilla tuvo una exactitud de 0.8366."
      ]
    },
    {
      "cell_type": "markdown",
      "metadata": {
        "id": "YoGMkoixxxVU"
      },
      "source": [
        "## Ejercicio 1.2\n",
        "\n",
        "Desarrolle otro modelo de red neuronal (de libre elección) para mejorar los resultados obtenidos con el mejor modelo obtenido hasta ahora.\n",
        "\n",
        "Puede explorar una red recurrente simple, LSTM, GRU, o cualquier otro tipo de red (CNN, CNN-LSTM, ...)\n",
        "\n",
        "Compare los resultados sobre los datos de prueba y analice el desempeño de su modelo. Concluya y proponga estrategias para seguir mejorando los resultados."
      ]
    },
    {
      "cell_type": "markdown",
      "metadata": {
        "id": "aEp5AU3iGN0Q"
      },
      "source": [
        "Con el fin de mejorar los resultados presentados anteriormente, se propone un nuevo modelo que incorcopora redes neuronales recurrentes y una capa de dropout del 20%. Asi mismo con el fin de incrementar el aprendizaje del modelo se aumentan las epocas de 3 a 10. "
      ]
    },
    {
      "cell_type": "code",
      "metadata": {
        "id": "OL9yvgzFC-94",
        "outputId": "49739d0f-6060-4544-c3c5-b31b72f056d1",
        "colab": {
          "base_uri": "https://localhost:8080/",
          "height": 357
        }
      },
      "source": [
        "# Input con secuencias de enteros con longitud variable\n",
        "inputs = keras.Input(shape=(None,), dtype=\"int32\")\n",
        "\n",
        "# Conseguimos la representación vectorial (embedding) de cada entero en un vector 128-dimensional\n",
        "x = layers.Embedding(max_features, 128)(inputs)\n",
        "\n",
        "# Añadimos 2 capa GRU\n",
        "x = (layers.GRU(100, return_sequences=True))(x)\n",
        "x = layers.Dropout(.2)(x)\n",
        "x = (layers.GRU(64))(x)\n",
        "\n",
        "#salida binaria\n",
        "outputs = layers.Dense(1, activation=\"sigmoid\")(x)\n",
        "\n",
        "# modelo\n",
        "model12 = keras.Model(inputs, outputs)\n",
        "model12.compile(loss='binary_crossentropy', optimizer=adam, metrics=['accuracy'])\n",
        "model12.summary()"
      ],
      "execution_count": 23,
      "outputs": [
        {
          "output_type": "stream",
          "text": [
            "Model: \"functional_13\"\n",
            "_________________________________________________________________\n",
            "Layer (type)                 Output Shape              Param #   \n",
            "=================================================================\n",
            "input_4 (InputLayer)         [(None, None)]            0         \n",
            "_________________________________________________________________\n",
            "embedding_3 (Embedding)      (None, None, 128)         2560000   \n",
            "_________________________________________________________________\n",
            "gru_2 (GRU)                  (None, None, 100)         69000     \n",
            "_________________________________________________________________\n",
            "dropout_1 (Dropout)          (None, None, 100)         0         \n",
            "_________________________________________________________________\n",
            "gru_3 (GRU)                  (None, 64)                31872     \n",
            "_________________________________________________________________\n",
            "dense_3 (Dense)              (None, 1)                 65        \n",
            "=================================================================\n",
            "Total params: 2,660,937\n",
            "Trainable params: 2,660,937\n",
            "Non-trainable params: 0\n",
            "_________________________________________________________________\n"
          ],
          "name": "stdout"
        }
      ]
    },
    {
      "cell_type": "code",
      "metadata": {
        "id": "7fDUhG-bDAFD",
        "outputId": "7bc39288-1699-4073-b98f-8395da78e0b7",
        "colab": {
          "base_uri": "https://localhost:8080/",
          "height": 374
        }
      },
      "source": [
        "model12.fit(x=CE_x, y=CE_y, epochs= 10, validation_data=(CV_x, CV_y), verbose=1, shuffle=False)  "
      ],
      "execution_count": 24,
      "outputs": [
        {
          "output_type": "stream",
          "text": [
            "Epoch 1/10\n",
            "391/391 [==============================] - 22s 56ms/step - loss: 0.4741 - accuracy: 0.7672 - val_loss: 0.3072 - val_accuracy: 0.8756\n",
            "Epoch 2/10\n",
            "391/391 [==============================] - 21s 54ms/step - loss: 0.1701 - accuracy: 0.9370 - val_loss: 0.3428 - val_accuracy: 0.8690\n",
            "Epoch 3/10\n",
            "391/391 [==============================] - 20s 52ms/step - loss: 0.0566 - accuracy: 0.9827 - val_loss: 0.4380 - val_accuracy: 0.8706\n",
            "Epoch 4/10\n",
            "391/391 [==============================] - 20s 52ms/step - loss: 0.0255 - accuracy: 0.9927 - val_loss: 0.5997 - val_accuracy: 0.8516\n",
            "Epoch 5/10\n",
            "391/391 [==============================] - 20s 52ms/step - loss: 0.0180 - accuracy: 0.9943 - val_loss: 0.5556 - val_accuracy: 0.8706\n",
            "Epoch 6/10\n",
            "391/391 [==============================] - 20s 52ms/step - loss: 0.0141 - accuracy: 0.9958 - val_loss: 0.6150 - val_accuracy: 0.8704\n",
            "Epoch 7/10\n",
            "391/391 [==============================] - 20s 52ms/step - loss: 0.0049 - accuracy: 0.9991 - val_loss: 0.6739 - val_accuracy: 0.8736\n",
            "Epoch 8/10\n",
            "391/391 [==============================] - 20s 52ms/step - loss: 0.0022 - accuracy: 0.9998 - val_loss: 0.7078 - val_accuracy: 0.8669\n",
            "Epoch 9/10\n",
            "391/391 [==============================] - 20s 52ms/step - loss: 0.0012 - accuracy: 0.9998 - val_loss: 0.7567 - val_accuracy: 0.8686\n",
            "Epoch 10/10\n",
            "391/391 [==============================] - 20s 52ms/step - loss: 0.0051 - accuracy: 0.9985 - val_loss: 0.7444 - val_accuracy: 0.8666\n"
          ],
          "name": "stdout"
        },
        {
          "output_type": "execute_result",
          "data": {
            "text/plain": [
              "<tensorflow.python.keras.callbacks.History at 0x7f43ba4a1780>"
            ]
          },
          "metadata": {
            "tags": []
          },
          "execution_count": 24
        }
      ]
    },
    {
      "cell_type": "code",
      "metadata": {
        "id": "MJrCOGHHEXI4",
        "outputId": "56755bb5-1df9-4d5a-dc43-78b05fd71b70",
        "colab": {
          "base_uri": "https://localhost:8080/",
          "height": 111
        }
      },
      "source": [
        "keras.utils.plot_model(model12, show_shapes=True, rankdir=\"LR\")"
      ],
      "execution_count": 25,
      "outputs": [
        {
          "output_type": "execute_result",
          "data": {
            "image/png": "[encoded data removed]",
            "text/plain": [
              "<IPython.core.display.Image object>"
            ]
          },
          "metadata": {
            "tags": []
          },
          "execution_count": 25
        }
      ]
    },
    {
      "cell_type": "code",
      "metadata": {
        "id": "1dIH3v6bDF1y",
        "outputId": "c4a061dd-a519-4147-bc70-a3c22a6c0798",
        "colab": {
          "base_uri": "https://localhost:8080/",
          "height": 68
        }
      },
      "source": [
        "Y_predt = model12.predict(x_train)\n",
        "Y_predst = (Y_predt > 0.5)\n",
        "\n",
        "print(confusion_matrix(y_train, Y_predst))\n",
        "print(\"Exactitud: \", model12.evaluate(x=x_train, y=y_train, verbose=0)[1])"
      ],
      "execution_count": 26,
      "outputs": [
        {
          "output_type": "stream",
          "text": [
            "[[11800   700]\n",
            " [  975 11525]]\n",
            "Exactitud:  0.9330000281333923\n"
          ],
          "name": "stdout"
        }
      ]
    },
    {
      "cell_type": "code",
      "metadata": {
        "id": "RPgglNakDG7V",
        "outputId": "6d351400-3122-401d-f72d-a5c6c481697f",
        "colab": {
          "base_uri": "https://localhost:8080/",
          "height": 68
        }
      },
      "source": [
        "Y_predv = model12.predict(x_val)\n",
        "Y_predsv = (Y_predv > 0.5)\n",
        "\n",
        "print(confusion_matrix(y_val, Y_predsv))\n",
        "print(\"Exactitud: \", model12.evaluate(x=x_val, y=y_val, verbose=0)[1])"
      ],
      "execution_count": 27,
      "outputs": [
        {
          "output_type": "stream",
          "text": [
            "[[11001  1499]\n",
            " [ 2241 10259]]\n",
            "Exactitud:  0.8503999710083008\n"
          ],
          "name": "stdout"
        }
      ]
    },
    {
      "cell_type": "code",
      "metadata": {
        "id": "zPt6KaaQGihd"
      },
      "source": [
        ""
      ],
      "execution_count": 22,
      "outputs": []
    },
    {
      "cell_type": "markdown",
      "metadata": {
        "id": "iiW3-UduGi5B"
      },
      "source": [
        "Se observa un mejoramiento en la exactitud tanto de la parte de prueba como la parte de validación, con niveles de exactitud del 93.3% y del 85.04% respectivamente.\n",
        "\n",
        "El uso del dropout facilita el aprendizaje del modelo al brindarle nuevas conexiones que se adaptan mejor a los patrones que se presentan en los datos. Asi mismo aumentar el número de epocas las neuronas tienen las posibililidades de identificar facilmente los patrones de interes de los datos y de esta manera conseguir un mejor desempeño. \n",
        "\n",
        "Usar capas recurrentes ya sean LSTM o GRU mostraron un desempeño adecuado dentro del contexto del problema, se podrian hacer iteraciones variando la cantidad de neuronas, capas recurrentes  tasa de dropout y epocas buscando encontrar aquel modelo que consiga los mejores indicadores de desempeño."
      ]
    }
  ]
}